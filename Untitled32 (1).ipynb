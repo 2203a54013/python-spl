{
  "nbformat": 4,
  "nbformat_minor": 0,
  "metadata": {
    "colab": {
      "provenance": []
    },
    "kernelspec": {
      "name": "python3",
      "display_name": "Python 3"
    },
    "language_info": {
      "name": "python"
    }
  },
  "cells": [
    {
      "cell_type": "code",
      "execution_count": 2,
      "metadata": {
        "colab": {
          "base_uri": "https://localhost:8080/"
        },
        "id": "GQ18Kd5F3uKe",
        "outputId": "d627e5ed-5691-4161-bb3b-145386e3a696"
      },
      "outputs": [
        {
          "output_type": "stream",
          "name": "stdout",
          "text": [
            "Requirement already satisfied: matplotlib-venn in /usr/local/lib/python3.10/dist-packages (0.11.10)\n",
            "Requirement already satisfied: matplotlib in /usr/local/lib/python3.10/dist-packages (from matplotlib-venn) (3.7.1)\n",
            "Requirement already satisfied: numpy in /usr/local/lib/python3.10/dist-packages (from matplotlib-venn) (1.25.2)\n",
            "Requirement already satisfied: scipy in /usr/local/lib/python3.10/dist-packages (from matplotlib-venn) (1.11.4)\n",
            "Requirement already satisfied: contourpy>=1.0.1 in /usr/local/lib/python3.10/dist-packages (from matplotlib->matplotlib-venn) (1.2.0)\n",
            "Requirement already satisfied: cycler>=0.10 in /usr/local/lib/python3.10/dist-packages (from matplotlib->matplotlib-venn) (0.12.1)\n",
            "Requirement already satisfied: fonttools>=4.22.0 in /usr/local/lib/python3.10/dist-packages (from matplotlib->matplotlib-venn) (4.50.0)\n",
            "Requirement already satisfied: kiwisolver>=1.0.1 in /usr/local/lib/python3.10/dist-packages (from matplotlib->matplotlib-venn) (1.4.5)\n",
            "Requirement already satisfied: packaging>=20.0 in /usr/local/lib/python3.10/dist-packages (from matplotlib->matplotlib-venn) (24.0)\n",
            "Requirement already satisfied: pillow>=6.2.0 in /usr/local/lib/python3.10/dist-packages (from matplotlib->matplotlib-venn) (9.4.0)\n",
            "Requirement already satisfied: pyparsing>=2.3.1 in /usr/local/lib/python3.10/dist-packages (from matplotlib->matplotlib-venn) (3.1.2)\n",
            "Requirement already satisfied: python-dateutil>=2.7 in /usr/local/lib/python3.10/dist-packages (from matplotlib->matplotlib-venn) (2.8.2)\n",
            "Requirement already satisfied: six>=1.5 in /usr/local/lib/python3.10/dist-packages (from python-dateutil>=2.7->matplotlib->matplotlib-venn) (1.16.0)\n"
          ]
        }
      ],
      "source": [
        "!pip install matplotlib-venn"
      ]
    },
    {
      "cell_type": "code",
      "source": [
        "!apt-get -qq install -y libfluidsynth1"
      ],
      "metadata": {
        "colab": {
          "base_uri": "https://localhost:8080/"
        },
        "id": "E0dkKuuCbhdg",
        "outputId": "135c3408-5eb3-497e-998a-108e27c98a7b"
      },
      "execution_count": 3,
      "outputs": [
        {
          "output_type": "stream",
          "name": "stdout",
          "text": [
            "E: Package 'libfluidsynth1' has no installation candidate\n"
          ]
        }
      ]
    },
    {
      "cell_type": "code",
      "source": [
        "!pip install mysql-connector-python\n"
      ],
      "metadata": {
        "colab": {
          "base_uri": "https://localhost:8080/"
        },
        "id": "BdZli24Ob2XK",
        "outputId": "26e5dba6-71c7-49f3-cba4-0bbf50f4972b"
      },
      "execution_count": 6,
      "outputs": [
        {
          "output_type": "stream",
          "name": "stdout",
          "text": [
            "Collecting mysql-connector-python\n",
            "  Downloading mysql_connector_python-8.3.0-cp310-cp310-manylinux_2_17_x86_64.whl (21.5 MB)\n",
            "\u001b[2K     \u001b[90m━━━━━━━━━━━━━━━━━━━━━━━━━━━━━━━━━━━━━━━━\u001b[0m \u001b[32m21.5/21.5 MB\u001b[0m \u001b[31m44.5 MB/s\u001b[0m eta \u001b[36m0:00:00\u001b[0m\n",
            "\u001b[?25hInstalling collected packages: mysql-connector-python\n",
            "Successfully installed mysql-connector-python-8.3.0\n"
          ]
        }
      ]
    },
    {
      "cell_type": "code",
      "source": [],
      "metadata": {
        "id": "pHyvmDthgt2x"
      },
      "execution_count": null,
      "outputs": []
    },
    {
      "cell_type": "code",
      "execution_count": null,
      "metadata": {
        "id": "9-jWkN1obPnH"
      },
      "outputs": [],
      "source": [
        "import mysql.connector\n",
        "import pandas as pd\n",
        "\n",
        "# Create a connection to the database\n",
        "mydb = mysql.connector.connect(\n",
        "  host=\"localhost\",\n",
        "  user=\"your_username\",\n",
        "  password=\"your_password\",\n",
        "  database=\"your_database\"\n",
        ")\n",
        "\n",
        "# Create a cursor object\n",
        "mycursor = mydb.cursor()\n",
        "\n",
        "# Create a table named 'customers' for the demonstration\n",
        "mycursor.execute(\"CREATE TABLE IF NOT EXISTS customers (name VARCHAR(255), address VARCHAR(255))\")\n",
        "\n",
        "# Load spreadsheet\n",
        "xl = pd.ExcelFile('lemon.xlsx')\n",
        "\n",
        "# Load a sheet into a DataFrame by its name\n",
        "df = xl.parse('Sheet1')\n",
        "\n",
        "# Insert data from the DataFrame into the 'customers' table\n",
        "for index, row in df.iterrows():\n",
        "    sql = \"INSERT INTO customers (name, address) VALUES (%s, %s)\"\n",
        "    val = (row['name'], row['address'])\n",
        "    mycursor.execute(sql, val)\n",
        "\n",
        "mydb.commit()\n",
        "\n",
        "# Create a procedure\n",
        "mycursor.execute(\"\"\"\n",
        "CREATE PROCEDURE my_procedure()\n",
        "BEGIN\n",
        "  SELECT * FROM customers;\n",
        "END\n",
        "\"\"\")\n",
        "\n",
        "# Call the procedure\n",
        "mycursor.callproc(\"my_procedure\")\n",
        "\n",
        "# Get the results of the procedure\n",
        "myresult = mycursor.stored_results()\n",
        "\n",
        "# Print the results\n",
        "for result in myresult:\n",
        "  for row in result.fetchall():\n",
        "    print(row)\n",
        "\n",
        "# Close the connection to the database\n",
        "mydb.close()\n"
      ]
    }
  ]
}